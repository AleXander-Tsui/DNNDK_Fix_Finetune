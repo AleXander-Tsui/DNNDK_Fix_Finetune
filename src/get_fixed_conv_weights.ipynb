{
 "cells": [
  {
   "cell_type": "code",
   "execution_count": 1,
   "metadata": {},
   "outputs": [],
   "source": [
    "import numpy as np\n",
    "import matplotlib.pyplot as plt"
   ]
  },
  {
   "cell_type": "code",
   "execution_count": 2,
   "metadata": {},
   "outputs": [],
   "source": [
    "import sys\n",
    "caffe_root = '/home/xuyf/caffe-dev/'  # this file should be run from {caffe_root}/examples (otherwise change this line)\n",
    "sys.path.insert(0, caffe_root + 'python')\n",
    "\n",
    "import caffe"
   ]
  },
  {
   "cell_type": "code",
   "execution_count": 3,
   "metadata": {},
   "outputs": [],
   "source": [
    "caffe.set_mode_cpu()"
   ]
  },
  {
   "cell_type": "code",
   "execution_count": 16,
   "metadata": {},
   "outputs": [],
   "source": [
    "net = caffe.Net(\"/home/xuyf/Depth-VO-Feat-master/dnncfile/fixedresults/fixed_model_okall.prototxt\", \"/home/xuyf/Depth-VO-Feat-master/dnncfile/fixedresults/fixed_model.caffemodel\",\n",
    "                caffe.TEST)     # use test mode (e.g., don't perform dropout)"
   ]
  },
  {
   "cell_type": "code",
   "execution_count": 145,
   "metadata": {},
   "outputs": [
    {
     "data": {
      "text/plain": [
       "array([ 0.3869053 , -2.5108385 ,  0.5755283 , -0.4118497 , -0.18652925,\n",
       "        0.15751313,  0.48055667,  0.15642266,  0.33836508,  0.07053496,\n",
       "        0.34160578,  0.42698577,  0.09167955, -0.42969677, -0.80600584,\n",
       "        0.7767141 , -0.54032737, -1.0574018 ,  0.4914017 ,  0.53992486,\n",
       "       -0.32563034, -0.30898333, -0.6391293 ,  0.64259183,  0.457084  ,\n",
       "       -2.5655131 , -1.3540388 ,  0.2831216 ,  0.57843435,  0.5514579 ,\n",
       "        0.61397403,  1.2766342 ], dtype=float32)"
      ]
     },
     "execution_count": 145,
     "metadata": {},
     "output_type": "execute_result"
    }
   ],
   "source": [
    "net.params['conv_1_pose'][1].data"
   ]
  },
  {
   "cell_type": "code",
   "execution_count": 23,
   "metadata": {},
   "outputs": [
    {
     "data": {
      "text/plain": [
       "<caffe._caffe.IntVec at 0x7f7a1aa12350>"
      ]
     },
     "execution_count": 23,
     "metadata": {},
     "output_type": "execute_result"
    }
   ],
   "source": [
    "net.params['conv_0_pose_fixed'][0]."
   ]
  },
  {
   "cell_type": "code",
   "execution_count": 128,
   "metadata": {},
   "outputs": [
    {
     "data": {
      "text/plain": [
       "OrderedDict([('conv_0_pose', <caffe._caffe.BlobVec at 0x7f7a1aa4d2f0>),\n",
       "             ('conv_0_pose_fixed', <caffe._caffe.BlobVec at 0x7f7a1aa11520>),\n",
       "             ('conv_1_pose', <caffe._caffe.BlobVec at 0x7f7a1aa114b0>),\n",
       "             ('conv_1_pose_fixed', <caffe._caffe.BlobVec at 0x7f7a1aa11600>),\n",
       "             ('conv_2_pose', <caffe._caffe.BlobVec at 0x7f7a1aa11670>),\n",
       "             ('conv_2_pose_fixed', <caffe._caffe.BlobVec at 0x7f7a1aa116e0>),\n",
       "             ('conv_3_pose', <caffe._caffe.BlobVec at 0x7f7a1aa11750>),\n",
       "             ('conv_3_pose_fixed', <caffe._caffe.BlobVec at 0x7f7a1aa117c0>),\n",
       "             ('conv_4_pose', <caffe._caffe.BlobVec at 0x7f7a1aa11830>),\n",
       "             ('conv_4_pose_fixed', <caffe._caffe.BlobVec at 0x7f7a1aa118a0>),\n",
       "             ('conv_5_pose', <caffe._caffe.BlobVec at 0x7f7a1aa11910>),\n",
       "             ('conv_5_pose_fixed', <caffe._caffe.BlobVec at 0x7f7a1aa11980>),\n",
       "             ('fc_0_pose', <caffe._caffe.BlobVec at 0x7f7a1aa119f0>),\n",
       "             ('fc_1_pose', <caffe._caffe.BlobVec at 0x7f7a1aa11a60>),\n",
       "             ('temporal_pose_0', <caffe._caffe.BlobVec at 0x7f7a1aa11ad0>)])"
      ]
     },
     "execution_count": 128,
     "metadata": {},
     "output_type": "execute_result"
    }
   ],
   "source": [
    "net.params"
   ]
  },
  {
   "cell_type": "code",
   "execution_count": 19,
   "metadata": {},
   "outputs": [
    {
     "data": {
      "text/plain": [
       "{'SE3': array([[[[ 0.9999944 , -0.00141872, -0.00304098,  0.00896987],\n",
       "          [ 0.00140994,  0.9999948 , -0.00288751, -0.00800834],\n",
       "          [ 0.00304506,  0.0028832 ,  0.9999912 ,  1.0743868 ],\n",
       "          [ 0.        ,  0.        ,  0.        ,  1.        ]]]],\n",
       "       dtype=float32)}"
      ]
     },
     "execution_count": 19,
     "metadata": {},
     "output_type": "execute_result"
    }
   ],
   "source": [
    "net.forward()"
   ]
  },
  {
   "cell_type": "code",
   "execution_count": 130,
   "metadata": {},
   "outputs": [
    {
     "data": {
      "text/plain": [
       "(512, 7680)"
      ]
     },
     "execution_count": 130,
     "metadata": {},
     "output_type": "execute_result"
    }
   ],
   "source": [
    "net.params['fc_0_pose'][0].data.shape"
   ]
  },
  {
   "cell_type": "code",
   "execution_count": 162,
   "metadata": {},
   "outputs": [],
   "source": [
    "with open('../caffe-dev/conv_5_pose_bias.txt', 'r') as file:\n",
    "    a = file.read()"
   ]
  },
  {
   "cell_type": "code",
   "execution_count": 163,
   "metadata": {},
   "outputs": [],
   "source": [
    "raw = a.split()"
   ]
  },
  {
   "cell_type": "code",
   "execution_count": 164,
   "metadata": {},
   "outputs": [],
   "source": [
    "fixed = np.zeros((256,))"
   ]
  },
  {
   "cell_type": "code",
   "execution_count": 165,
   "metadata": {},
   "outputs": [],
   "source": [
    "for i in range(256):\n",
    "    fixed[i] = float(raw[i])"
   ]
  },
  {
   "cell_type": "code",
   "execution_count": 166,
   "metadata": {},
   "outputs": [],
   "source": [
    "np.save(\"conv_5_pose_bias.npy\", fixed)"
   ]
  },
  {
   "cell_type": "code",
   "execution_count": 144,
   "metadata": {},
   "outputs": [
    {
     "data": {
      "text/plain": [
       "array([ 0.375  , -2.5    ,  0.5625 , -0.40625, -0.1875 ,  0.15625,\n",
       "        0.46875,  0.15625,  0.34375,  0.0625 ,  0.34375,  0.4375 ,\n",
       "        0.09375, -0.4375 , -0.8125 ,  0.78125, -0.53125, -1.0625 ,\n",
       "        0.5    ,  0.53125, -0.3125 , -0.3125 , -0.625  ,  0.65625,\n",
       "        0.46875, -2.5625 , -1.34375,  0.28125,  0.59375,  0.5625 ,\n",
       "        0.625  ,  1.28125])"
      ]
     },
     "execution_count": 144,
     "metadata": {},
     "output_type": "execute_result"
    }
   ],
   "source": [
    "fixed"
   ]
  },
  {
   "cell_type": "code",
   "execution_count": 141,
   "metadata": {},
   "outputs": [
    {
     "data": {
      "text/plain": [
       "['0.375',\n",
       " '-2.5',\n",
       " '0.5625',\n",
       " '-0.40625',\n",
       " '-0.1875',\n",
       " '0.15625',\n",
       " '0.46875',\n",
       " '0.15625',\n",
       " '0.34375',\n",
       " '0.0625',\n",
       " '0.34375',\n",
       " '0.4375',\n",
       " '0.09375',\n",
       " '-0.4375',\n",
       " '-0.8125',\n",
       " '0.78125',\n",
       " '-0.53125',\n",
       " '-1.0625',\n",
       " '0.5',\n",
       " '0.53125',\n",
       " '-0.3125',\n",
       " '-0.3125',\n",
       " '-0.625',\n",
       " '0.65625',\n",
       " '0.46875',\n",
       " '-2.5625',\n",
       " '-1.34375',\n",
       " '0.28125',\n",
       " '0.59375',\n",
       " '0.5625',\n",
       " '0.625',\n",
       " '1.28125']"
      ]
     },
     "execution_count": 141,
     "metadata": {},
     "output_type": "execute_result"
    }
   ],
   "source": [
    "raw"
   ]
  },
  {
   "cell_type": "code",
   "execution_count": 122,
   "metadata": {},
   "outputs": [],
   "source": [
    "\n",
    "for x in range(256):\n",
    "    for y in range(256):\n",
    "        for z in range(3):\n",
    "            for n in range(3):\n",
    "                fixed[x][y][z][n] = float(raw[x*256*3*3+y*3*3+z*3+n])"
   ]
  },
  {
   "cell_type": "code",
   "execution_count": 126,
   "metadata": {},
   "outputs": [
    {
     "data": {
      "text/plain": [
       "array([[ 0.117188 , -0.195312 , -0.226562 ],\n",
       "       [ 0.71875  ,  0.273438 ,  0.0234375],\n",
       "       [ 0.195312 , -0.117188 , -0.65625  ]])"
      ]
     },
     "execution_count": 126,
     "metadata": {},
     "output_type": "execute_result"
    }
   ],
   "source": [
    "fixed[0][0]"
   ]
  },
  {
   "cell_type": "code",
   "execution_count": 125,
   "metadata": {},
   "outputs": [
    {
     "data": {
      "text/plain": [
       "array([[ 0.12017733, -0.19631669, -0.22764082],\n",
       "       [ 0.71543664,  0.2754301 ,  0.02333467],\n",
       "       [ 0.19463843, -0.12027109, -0.6568382 ]], dtype=float32)"
      ]
     },
     "execution_count": 125,
     "metadata": {},
     "output_type": "execute_result"
    }
   ],
   "source": [
    "net.params['conv_5_pose'][0].data[0][0]"
   ]
  },
  {
   "cell_type": "code",
   "execution_count": 127,
   "metadata": {},
   "outputs": [],
   "source": [
    "np.save(\"conv_5_pose.npy\", fixed)"
   ]
  },
  {
   "cell_type": "code",
   "execution_count": null,
   "metadata": {},
   "outputs": [],
   "source": []
  }
 ],
 "metadata": {
  "kernelspec": {
   "display_name": "Python2",
   "language": "python",
   "name": "python2"
  },
  "language_info": {
   "codemirror_mode": {
    "name": "ipython",
    "version": 2
   },
   "file_extension": ".py",
   "mimetype": "text/x-python",
   "name": "python",
   "nbconvert_exporter": "python",
   "pygments_lexer": "ipython2",
   "version": "2.7.12"
  }
 },
 "nbformat": 4,
 "nbformat_minor": 2
}
